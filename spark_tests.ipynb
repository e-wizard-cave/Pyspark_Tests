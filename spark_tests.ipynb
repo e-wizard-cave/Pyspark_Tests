{
  "nbformat": 4,
  "nbformat_minor": 0,
  "metadata": {
    "colab": {
      "provenance": [],
      "collapsed_sections": [
        "YbymvNNQao0u"
      ]
    },
    "kernelspec": {
      "name": "python3",
      "display_name": "Python 3"
    },
    "language_info": {
      "name": "python"
    }
  },
  "cells": [
    {
      "cell_type": "markdown",
      "source": [
        "# Preparing Pyspark and imports"
      ],
      "metadata": {
        "id": "YbymvNNQao0u"
      }
    },
    {
      "cell_type": "code",
      "source": [
        "!pip install pyspark #Actually works unlike using [!wget -q \"URL\"]"
      ],
      "metadata": {
        "colab": {
          "base_uri": "https://localhost:8080/"
        },
        "id": "qcB-UViUVJnB",
        "outputId": "4f98264a-28d6-4943-8a3f-2dc6e88d6e22"
      },
      "execution_count": 62,
      "outputs": [
        {
          "output_type": "stream",
          "name": "stdout",
          "text": [
            "Requirement already satisfied: pyspark in /usr/local/lib/python3.10/dist-packages (3.5.1)\n",
            "Requirement already satisfied: py4j==0.10.9.7 in /usr/local/lib/python3.10/dist-packages (from pyspark) (0.10.9.7)\n"
          ]
        }
      ]
    },
    {
      "cell_type": "code",
      "execution_count": 80,
      "metadata": {
        "id": "fVJhlGOdSGfY"
      },
      "outputs": [],
      "source": [
        "import os\n",
        "import time\n",
        "import pandas as pd\n",
        "import matplotlib.pyplot as plt\n",
        "from pyspark.sql import SparkSession\n",
        "from pyspark.sql.types import StructType, StructField, IntegerType, StringType, DoubleType, FloatType"
      ]
    },
    {
      "cell_type": "code",
      "source": [
        "spark = SparkSession.builder\\\n",
        ".appName('test') \\\n",
        ".getOrCreate()"
      ],
      "metadata": {
        "id": "7gfL80j3X5oM"
      },
      "execution_count": 81,
      "outputs": []
    },
    {
      "cell_type": "markdown",
      "source": [
        "***This code will look for any csv file within the main directory***"
      ],
      "metadata": {
        "id": "BIKr0AY7Zzt_"
      }
    },
    {
      "cell_type": "code",
      "source": [
        "for file in os.listdir():\n",
        "  if '.csv' in file:\n",
        "    print(f'The size of the {file} file is {os.stat(file).st_size/(1024*1024):,.2f} MB')"
      ],
      "metadata": {
        "colab": {
          "base_uri": "https://localhost:8080/"
        },
        "id": "0XjjCMlCYGXU",
        "outputId": "62f03d64-6852-4016-9aca-bcc13e9a4fc7"
      },
      "execution_count": 82,
      "outputs": [
        {
          "output_type": "stream",
          "name": "stdout",
          "text": [
            "The size of the global_temperatures.csv file is 0.19 MB\n"
          ]
        }
      ]
    },
    {
      "cell_type": "markdown",
      "source": [
        "***This os.listdir directs to the path folder \"read_test\"***"
      ],
      "metadata": {
        "id": "p-Wi1XFFZgsw"
      }
    },
    {
      "cell_type": "code",
      "source": [
        "for file in os.listdir('read_test'):\n",
        "  if '.csv' in file:\n",
        "    print(f'The size of the {file} file is {os.stat(\"read_test/\"+file).st_size/(1024*1024):,.2f} MB')"
      ],
      "metadata": {
        "colab": {
          "base_uri": "https://localhost:8080/"
        },
        "id": "_whiDtGZYtLS",
        "outputId": "75e3b80f-bc4c-47db-ee3a-21270580c14d"
      },
      "execution_count": 83,
      "outputs": [
        {
          "output_type": "stream",
          "name": "stdout",
          "text": [
            "The size of the global_temperatures.csv file is 0.19 MB\n"
          ]
        }
      ]
    },
    {
      "cell_type": "markdown",
      "source": [
        "# Reading the CSV file"
      ],
      "metadata": {
        "id": "aT86ASlnafjX"
      }
    },
    {
      "cell_type": "code",
      "source": [
        "spark_df = spark.read.csv('global_temperatures.csv', header=True, inferSchema=True)\n"
      ],
      "metadata": {
        "id": "PyRG0GDzanhr"
      },
      "execution_count": 84,
      "outputs": []
    },
    {
      "cell_type": "code",
      "source": [
        "spark_df.show(10)"
      ],
      "metadata": {
        "colab": {
          "base_uri": "https://localhost:8080/"
        },
        "id": "XySDtHCzbBvM",
        "outputId": "914794dc-53b1-4bcd-b2e0-7d16671ffae0"
      },
      "execution_count": 85,
      "outputs": [
        {
          "output_type": "stream",
          "name": "stdout",
          "text": [
            "+----------+----------------------+---------------------------------+------------------+-----------------------------+------------------+-----------------------------+------------------------------+-----------------------------------------+\n",
            "|        dt|LandAverageTemperature|LandAverageTemperatureUncertainty|LandMaxTemperature|LandMaxTemperatureUncertainty|LandMinTemperature|LandMinTemperatureUncertainty|LandAndOceanAverageTemperature|LandAndOceanAverageTemperatureUncertainty|\n",
            "+----------+----------------------+---------------------------------+------------------+-----------------------------+------------------+-----------------------------+------------------------------+-----------------------------------------+\n",
            "|1776-08-01|                14.837|                            3.437|              NULL|                         NULL|              NULL|                         NULL|                          NULL|                                     NULL|\n",
            "|1777-08-01|                12.815|                            1.269|              NULL|                         NULL|              NULL|                         NULL|                          NULL|                                     NULL|\n",
            "|1777-09-01|    11.379000000000001|                            2.692|              NULL|                         NULL|              NULL|                         NULL|                          NULL|                                     NULL|\n",
            "|1766-12-01|                 2.333|                            2.278|              NULL|                         NULL|              NULL|                         NULL|                          NULL|                                     NULL|\n",
            "|1800-06-01|                13.606|                            1.169|              NULL|                         NULL|              NULL|                         NULL|                          NULL|                                     NULL|\n",
            "|1776-03-01|                 4.652|                            2.388|              NULL|                         NULL|              NULL|                         NULL|                          NULL|                                     NULL|\n",
            "|1794-01-01|                  3.71|                            3.869|              NULL|                         NULL|              NULL|                         NULL|                          NULL|                                     NULL|\n",
            "|1767-03-01|                 7.022|                            4.418|              NULL|                         NULL|              NULL|                         NULL|                          NULL|                                     NULL|\n",
            "|1829-11-01|                 5.003|                            1.449|              NULL|                         NULL|              NULL|                         NULL|                          NULL|                                     NULL|\n",
            "|1815-09-01|                11.151|                            1.503|              NULL|                         NULL|              NULL|                         NULL|                          NULL|                                     NULL|\n",
            "+----------+----------------------+---------------------------------+------------------+-----------------------------+------------------+-----------------------------+------------------------------+-----------------------------------------+\n",
            "only showing top 10 rows\n",
            "\n"
          ]
        }
      ]
    },
    {
      "cell_type": "code",
      "source": [
        "print(f'There are {len(spark_df.columns)} columns and {spark_df.count():,} rows in the Pyspark DataFrame')"
      ],
      "metadata": {
        "colab": {
          "base_uri": "https://localhost:8080/"
        },
        "id": "lvNagBjIca5X",
        "outputId": "6b2da0b0-6188-41bf-99d5-8b9f35d8683b"
      },
      "execution_count": 86,
      "outputs": [
        {
          "output_type": "stream",
          "name": "stdout",
          "text": [
            "There are 9 columns and 3,192 rows in the Pyspark DataFrame\n"
          ]
        }
      ]
    },
    {
      "cell_type": "code",
      "source": [
        "spark_df.printSchema()"
      ],
      "metadata": {
        "colab": {
          "base_uri": "https://localhost:8080/"
        },
        "id": "A2nA1ep2ctYm",
        "outputId": "4b101188-41db-4a98-8d65-4afbf73169b0"
      },
      "execution_count": 87,
      "outputs": [
        {
          "output_type": "stream",
          "name": "stdout",
          "text": [
            "root\n",
            " |-- dt: date (nullable = true)\n",
            " |-- LandAverageTemperature: double (nullable = true)\n",
            " |-- LandAverageTemperatureUncertainty: double (nullable = true)\n",
            " |-- LandMaxTemperature: double (nullable = true)\n",
            " |-- LandMaxTemperatureUncertainty: double (nullable = true)\n",
            " |-- LandMinTemperature: double (nullable = true)\n",
            " |-- LandMinTemperatureUncertainty: double (nullable = true)\n",
            " |-- LandAndOceanAverageTemperature: double (nullable = true)\n",
            " |-- LandAndOceanAverageTemperatureUncertainty: double (nullable = true)\n",
            "\n"
          ]
        }
      ]
    },
    {
      "cell_type": "markdown",
      "source": [
        "# Using Schema"
      ],
      "metadata": {
        "id": "sM8tYg7Ic88O"
      }
    },
    {
      "cell_type": "code",
      "source": [
        "schema = StructType([\n",
        "    StructField('Date', StringType(), True),\n",
        "    StructField('Land Avg Temp', StringType(), True),\n",
        "    StructField('Land Avg Temp(Uncertainty)', StringType(), True),\n",
        "    StructField('Land Max Temp', FloatType(), True),\n",
        "    StructField('Land Max Temp(Uncertainty)', FloatType(), True),\n",
        "    StructField('Land Min Temp', FloatType(), True),\n",
        "    StructField('Land Min Temp(Uncertainty)', FloatType(), True),\n",
        "    StructField('Land and Ocean Avg Temp', FloatType(), True),\n",
        "    StructField('Land and Ocean Avg Temp(Uncertainty)', FloatType(), True)\n",
        "    ])\n"
      ],
      "metadata": {
        "id": "9RYCoTjKdBOi"
      },
      "execution_count": 93,
      "outputs": []
    },
    {
      "cell_type": "code",
      "source": [
        "spark_df2 = spark.read.csv('read_test/global_temperatures.csv', schema=schema, header=True)"
      ],
      "metadata": {
        "id": "N0HzLoz2fJON"
      },
      "execution_count": 94,
      "outputs": []
    },
    {
      "cell_type": "code",
      "source": [
        "spark_df2.show(6)"
      ],
      "metadata": {
        "colab": {
          "base_uri": "https://localhost:8080/"
        },
        "id": "sDOz_cXEfP1s",
        "outputId": "dd721ebe-0923-4fd7-b805-5d260ac788fc"
      },
      "execution_count": 95,
      "outputs": [
        {
          "output_type": "stream",
          "name": "stdout",
          "text": [
            "+----------+------------------+--------------------------+-------------+--------------------------+-------------+--------------------------+-----------------------+------------------------------------+\n",
            "|      Date|     Land Avg Temp|Land Avg Temp(Uncertainty)|Land Max Temp|Land Max Temp(Uncertainty)|Land Min Temp|Land Min Temp(Uncertainty)|Land and Ocean Avg Temp|Land and Ocean Avg Temp(Uncertainty)|\n",
            "+----------+------------------+--------------------------+-------------+--------------------------+-------------+--------------------------+-----------------------+------------------------------------+\n",
            "|1776-08-01|            14.837|                     3.437|         NULL|                      NULL|         NULL|                      NULL|                   NULL|                                NULL|\n",
            "|1777-08-01|            12.815|                     1.269|         NULL|                      NULL|         NULL|                      NULL|                   NULL|                                NULL|\n",
            "|1777-09-01|11.379000000000001|                     2.692|         NULL|                      NULL|         NULL|                      NULL|                   NULL|                                NULL|\n",
            "|1766-12-01|             2.333|                     2.278|         NULL|                      NULL|         NULL|                      NULL|                   NULL|                                NULL|\n",
            "|1800-06-01|            13.606|                     1.169|         NULL|                      NULL|         NULL|                      NULL|                   NULL|                                NULL|\n",
            "|1776-03-01|             4.652|                     2.388|         NULL|                      NULL|         NULL|                      NULL|                   NULL|                                NULL|\n",
            "+----------+------------------+--------------------------+-------------+--------------------------+-------------+--------------------------+-----------------------+------------------------------------+\n",
            "only showing top 6 rows\n",
            "\n"
          ]
        }
      ]
    }
  ]
}